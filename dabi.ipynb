{
 "cells": [
  {
   "cell_type": "code",
   "execution_count": 1,
   "metadata": {},
   "outputs": [],
   "source": [
    "import os \n",
    "import pandas as pd \n",
    "import missingno as msno"
   ]
  },
  {
   "cell_type": "code",
   "execution_count": 2,
   "metadata": {},
   "outputs": [],
   "source": [
    "# Import der Datensätze\n",
    "os.chdir(\"Datensätze\")\n",
    "\n",
    "df_aisles = pd.read_csv(\"aisles.csv.zip\")\n",
    "df_departments = pd.read_csv(\"departments.csv.zip\")\n",
    "df_orderProducts_s = pd.read_csv(\"order_products_s.csv.zip\")\n",
    "df_orders_s = pd.read_csv(\"orders_s.csv.zip\")\n",
    "df_products = pd.read_csv(\"products.csv.zip\")\n",
    "df_tips = pd.read_csv(\"tips.csv.zip\")\n",
    "\n",
    "os.chdir(\"..\")"
   ]
  }
 ],
 "metadata": {
  "kernelspec": {
   "display_name": "base",
   "language": "python",
   "name": "python3"
  },
  "language_info": {
   "codemirror_mode": {
    "name": "ipython",
    "version": 3
   },
   "file_extension": ".py",
   "mimetype": "text/x-python",
   "name": "python",
   "nbconvert_exporter": "python",
   "pygments_lexer": "ipython3",
   "version": "3.9.13"
  }
 },
 "nbformat": 4,
 "nbformat_minor": 2
}
